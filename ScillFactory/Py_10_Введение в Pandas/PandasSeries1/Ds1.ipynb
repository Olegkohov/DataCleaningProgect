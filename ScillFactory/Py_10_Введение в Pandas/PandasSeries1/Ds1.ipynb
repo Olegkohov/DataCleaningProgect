{
 "cells": [
  {
   "cell_type": "code",
   "execution_count": 4,
   "metadata": {},
   "outputs": [
    {
     "name": "stdout",
     "output_type": "stream",
     "text": [
      "Us       Сша\n",
      "Uk    Англия\n",
      "Au    Автрия\n",
      "Name: countries, dtype: object\n"
     ]
    }
   ],
   "source": [
    "import pandas as pd\n",
    "a = pd.Series({'Us':'Сша',\n",
    "               'Uk': 'Англия',\n",
    "               'Au': 'Автрия'},\n",
    "              name= 'countries')\n",
    "print(a)"
   ]
  },
  {
   "cell_type": "code",
   "execution_count": 12,
   "metadata": {},
   "outputs": [
    {
     "name": "stdout",
     "output_type": "stream",
     "text": [
      "Us       Сша\n",
      "Uk    Англия\n",
      "Name: countries, dtype: object\n"
     ]
    }
   ],
   "source": [
    "print(a.iloc[0:2])"
   ]
  },
  {
   "cell_type": "code",
   "execution_count": 9,
   "metadata": {},
   "outputs": [
    {
     "name": "stdout",
     "output_type": "stream",
     "text": [
      "Us       Сша\n",
      "Uk    Англия\n",
      "Name: countries, dtype: object\n"
     ]
    }
   ],
   "source": [
    "print(a.loc[['Us', 'Uk']])"
   ]
  }
 ],
 "metadata": {
  "interpreter": {
   "hash": "cacc99f2d5398e8980ff7a93e10dc6151eb205bb4b5374c2e832cc15a91bcb38"
  },
  "kernelspec": {
   "display_name": "Python 3.9.7 ('base')",
   "language": "python",
   "name": "python3"
  },
  "language_info": {
   "codemirror_mode": {
    "name": "ipython",
    "version": 3
   },
   "file_extension": ".py",
   "mimetype": "text/x-python",
   "name": "python",
   "nbconvert_exporter": "python",
   "pygments_lexer": "ipython3",
   "version": "3.9.7"
  },
  "orig_nbformat": 4
 },
 "nbformat": 4,
 "nbformat_minor": 2
}
