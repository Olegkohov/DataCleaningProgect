{
 "cells": [
  {
   "cell_type": "code",
   "execution_count": 3,
   "metadata": {},
   "outputs": [
    {
     "name": "stdout",
     "output_type": "stream",
     "text": [
      "  country strana\n",
      "w      Uk      R\n",
      "g      Us      U\n",
      "s      Ru      Z\n",
      "v      Nz      V\n"
     ]
    }
   ],
   "source": [
    "import pandas as pd\n",
    "a = pd.DataFrame({'country': ['Uk', 'Us', 'Ru', 'Nz'], \n",
    "                  'strana': ['R', 'U', 'Z', 'V']},index = ['w', 'g', 's', 'v'])\n",
    "print(a)"
   ]
  }
 ],
 "metadata": {
  "interpreter": {
   "hash": "cacc99f2d5398e8980ff7a93e10dc6151eb205bb4b5374c2e832cc15a91bcb38"
  },
  "kernelspec": {
   "display_name": "Python 3.9.7 ('base')",
   "language": "python",
   "name": "python3"
  },
  "language_info": {
   "codemirror_mode": {
    "name": "ipython",
    "version": 3
   },
   "file_extension": ".py",
   "mimetype": "text/x-python",
   "name": "python",
   "nbconvert_exporter": "python",
   "pygments_lexer": "ipython3",
   "version": "3.9.7"
  },
  "orig_nbformat": 4
 },
 "nbformat": 4,
 "nbformat_minor": 2
}
