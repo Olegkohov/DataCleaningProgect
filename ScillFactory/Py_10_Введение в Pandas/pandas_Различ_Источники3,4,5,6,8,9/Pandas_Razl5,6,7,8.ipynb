{
 "cells": [
  {
   "cell_type": "code",
   "execution_count": 2,
   "metadata": {},
   "outputs": [],
   "source": [
    "import pandas as pd\n",
    "countries_df = pd.DataFrame({\n",
    "    'country': ['Англия', 'Канада', 'США', 'Россия', 'Украина', 'Беларусь', 'Казахстан'],\n",
    "    'population': [56.29, 38.05, 322.28, 146.24, 45.5, 9.5, 17.04],\n",
    "    'square': [133396, 9984670, 9826630, 17125191, 603628, 207600, 2724902]\n",
    "})\n",
    "\n",
    "countries_df.to_csv('data/countries.csv', index=False, sep=';')"
   ]
  },
  {
   "cell_type": "markdown",
   "metadata": {},
   "source": [
    "Экспорт данных в формат csv осуществляется с помощью метода DataFrame to_csv().  \n",
    "\n",
    "Кликните на плашку, чтобы увидеть информацию ↓\n",
    "\n",
    "Основные параметры метода DataFrame to_csv()\n",
    "\n",
    "        path_or_buf — путь до файла, в который будет записан DataFrame (например, data/my_data.csv);\n",
    "        sep — разделитель данных в выходном файле (по умолчанию ',');\n",
    "        decimal — разделитель чисел на целую и дробную части в выходном файле (по умолчанию '.');\n",
    "\n",
    "        columns — список столбцов, которые нужно записать в файл (по умолчанию записываются все столбцы);\n",
    "        index — параметр, определяющий, требуется ли создавать дополнительный столбец с индексами строк в файле (по умолчанию True).\n",
    "\n"
   ]
  },
  {
   "cell_type": "markdown",
   "metadata": {},
   "source": [
    "fff\n"
   ]
  },
  {
   "cell_type": "code",
   "execution_count": 3,
   "metadata": {},
   "outputs": [
    {
     "name": "stdout",
     "output_type": "stream",
     "text": [
      "     country  population    square\n",
      "0     Англия       56.29    133396\n",
      "1     Канада       38.05   9984670\n",
      "2        США      322.28   9826630\n",
      "3     Россия      146.24  17125191\n",
      "4    Украина       45.50    603628\n",
      "5   Беларусь        9.50    207600\n",
      "6  Казахстан       17.04   2724902\n"
     ]
    }
   ],
   "source": [
    "countries_data = pd.read_csv('data/countries.csv', sep=';')\n",
    "print(countries_data)"
   ]
  },
  {
   "cell_type": "markdown",
   "metadata": {},
   "source": [
    "Запись и чтение в других форматах"
   ]
  },
  {
   "cell_type": "markdown",
   "metadata": {},
   "source": [
    "\n",
    "\n",
    "Методы для записи таблиц в файлы отличных от csv форматов:\n",
    "\n",
    "        to_excel() — запись DataFrame в формат Excel-таблицы (.xslx);\n",
    "        to_json() — запись DataFrame в формат JSON (.json);\n",
    "        to_xml() — запись DataFrame в формат XML-документа (.xml);\n",
    "        to_sql() — запись DataFrame в базу данных SQL (для реализации этого метода необходимо установить соединение с базой данных).\n",
    "\n"
   ]
  },
  {
   "cell_type": "markdown",
   "metadata": {},
   "source": [
    "\n",
    "\n",
    "Методы для чтения таблиц из файлов в отличных от csv форматах:\n",
    "\n",
    "        read_excel() — чтение из формата Excel-таблицы(.xslx) в DataFrame;\n",
    "        read_json() — чтение из формата JSON (.json) в DataFrame;\n",
    "        read_xml() — чтение из формата XML-документа (.xml) в DataFrame;\n",
    "        read_sql() — чтение из базы данных SQL в DataFrame (также необходимо установить соединение с базой данных).\n",
    "\n"
   ]
  },
  {
   "cell_type": "markdown",
   "metadata": {},
   "source": [
    "Для этого у DataFrame есть методы head() и tail(), которые возвращают n первых и n последних строк таблицы соответственно (по умолчанию n = 5)."
   ]
  },
  {
   "cell_type": "code",
   "execution_count": 6,
   "metadata": {},
   "outputs": [
    {
     "name": "stdout",
     "output_type": "stream",
     "text": [
      "   index      Suburb           Address  Rooms Type      Price Method SellerG  \\\n",
      "0      0  Abbotsford      85 Turner St      2    h  1480000.0      S  Biggin   \n",
      "1      1  Abbotsford   25 Bloomburg St      2    h  1035000.0      S  Biggin   \n",
      "2      2  Abbotsford      5 Charles St      3    h  1465000.0     SP  Biggin   \n",
      "3      3  Abbotsford  40 Federation La      3    h   850000.0     PI  Biggin   \n",
      "4      4  Abbotsford       55a Park St      4    h  1600000.0     VB  Nelson   \n",
      "\n",
      "        Date  Distance  ...  Car  Landsize  BuildingArea  YearBuilt  \\\n",
      "0  3/12/2016       2.5  ...  1.0     202.0         126.0     1970.0   \n",
      "1  4/02/2016       2.5  ...  0.0     156.0          79.0     1900.0   \n",
      "2  4/03/2017       2.5  ...  0.0     134.0         150.0     1900.0   \n",
      "3  4/03/2017       2.5  ...  1.0      94.0         126.0     1970.0   \n",
      "4  4/06/2016       2.5  ...  2.0     120.0         142.0     2014.0   \n",
      "\n",
      "   CouncilArea  Lattitude  Longtitude             Regionname  Propertycount  \\\n",
      "0        Yarra   -37.7996    144.9984  Northern Metropolitan         4019.0   \n",
      "1        Yarra   -37.8079    144.9934  Northern Metropolitan         4019.0   \n",
      "2        Yarra   -37.8093    144.9944  Northern Metropolitan         4019.0   \n",
      "3        Yarra   -37.7969    144.9969  Northern Metropolitan         4019.0   \n",
      "4        Yarra   -37.8072    144.9941  Northern Metropolitan         4019.0   \n",
      "\n",
      "          Coordinates  \n",
      "0  -37.7996, 144.9984  \n",
      "1  -37.8079, 144.9934  \n",
      "2  -37.8093, 144.9944  \n",
      "3  -37.7969, 144.9969  \n",
      "4  -37.8072, 144.9941  \n",
      "\n",
      "[5 rows x 23 columns]\n"
     ]
    }
   ],
   "source": [
    "import pandas as pd\n",
    "melb_data = pd.read_csv('data/melb_data.csv', sep=',')\n",
    "print(melb_data.head())\n"
   ]
  },
  {
   "cell_type": "code",
   "execution_count": 13,
   "metadata": {},
   "outputs": [
    {
     "name": "stdout",
     "output_type": "stream",
     "text": [
      "       index         Suburb        Address  Rooms Type      Price Method  \\\n",
      "13573  13573       Werribee    5 Nuragi Ct      4    h   635000.0      S   \n",
      "13574  13574    Westmeadows     9 Black St      3    h   582000.0      S   \n",
      "13575  13575  Wheelers Hill   12 Strada Cr      4    h  1245000.0      S   \n",
      "13576  13576   Williamstown  77 Merrett Dr      3    h  1031000.0     SP   \n",
      "13577  13577   Williamstown    83 Power St      3    h  1170000.0      S   \n",
      "13578  13578   Williamstown   96 Verdon St      4    h  2500000.0     PI   \n",
      "13579  13579     Yarraville     6 Agnes St      4    h  1285000.0     SP   \n",
      "\n",
      "             SellerG        Date  Distance  ...  Car  Landsize  BuildingArea  \\\n",
      "13573  hockingstuart  26/08/2017      14.7  ...  1.0     662.0         172.0   \n",
      "13574            Red  26/08/2017      16.5  ...  2.0     256.0         126.0   \n",
      "13575          Barry  26/08/2017      16.7  ...  2.0     652.0         126.0   \n",
      "13576       Williams  26/08/2017       6.8  ...  2.0     333.0         133.0   \n",
      "13577          Raine  26/08/2017       6.8  ...  4.0     436.0         126.0   \n",
      "13578        Sweeney  26/08/2017       6.8  ...  5.0     866.0         157.0   \n",
      "13579        Village  26/08/2017       6.3  ...  1.0     362.0         112.0   \n",
      "\n",
      "       YearBuilt  CouncilArea  Lattitude  Longtitude  \\\n",
      "13573     1980.0          NaN  -37.89327   144.64789   \n",
      "13574     1970.0          NaN  -37.67917   144.89390   \n",
      "13575     1981.0          NaN  -37.90562   145.16761   \n",
      "13576     1995.0          NaN  -37.85927   144.87904   \n",
      "13577     1997.0          NaN  -37.85274   144.88738   \n",
      "13578     1920.0          NaN  -37.85908   144.89299   \n",
      "13579     1920.0          NaN  -37.81188   144.88449   \n",
      "\n",
      "                       Regionname  Propertycount           Coordinates  \n",
      "13573        Western Metropolitan        16166.0  -37.89327, 144.64789  \n",
      "13574       Northern Metropolitan         2474.0   -37.67917, 144.8939  \n",
      "13575  South-Eastern Metropolitan         7392.0  -37.90562, 145.16761  \n",
      "13576        Western Metropolitan         6380.0  -37.85927, 144.87904  \n",
      "13577        Western Metropolitan         6380.0  -37.85274, 144.88738  \n",
      "13578        Western Metropolitan         6380.0  -37.85908, 144.89299  \n",
      "13579        Western Metropolitan         6543.0  -37.81188, 144.88449  \n",
      "\n",
      "[7 rows x 23 columns]\n"
     ]
    }
   ],
   "source": [
    "print(melb_data.tail(7))"
   ]
  },
  {
   "cell_type": "markdown",
   "metadata": {},
   "source": [
    "Размерность таблицы\n",
    "\n",
    "Далее хотелось бы узнать размер таблицы — количество строк и количество столбцов. Это можно сделать с помощью атрибута shape, который возвращает кортеж с количеством строк и столбцов:"
   ]
  },
  {
   "cell_type": "code",
   "execution_count": 14,
   "metadata": {},
   "outputs": [
    {
     "name": "stdout",
     "output_type": "stream",
     "text": [
      "(13580, 23)\n"
     ]
    }
   ],
   "source": [
    "print(melb_data.shape)"
   ]
  },
  {
   "cell_type": "markdown",
   "metadata": {},
   "source": [
    "Получение информации о столбцах\n",
    "\n",
    "Для того чтобы получить более детальную информацию о столбцах таблицы, можно использовать метод DataFrame info():\n",
    "\n",
    "\n",
    "\n",
    "\n",
    "Данный метод выводит:\n",
    "\n",
    "        информацию об индексах;\n",
    "        информацию об общем количестве столбцов;\n",
    "        таблицу, в которой содержится информация об именах столбцов (Column), количестве непустых значений (Non-Null Count) в каждом столбце и типе данных столбца (Dtype), количестве столбцов, в которых используется определённый тип данных;\n",
    "        количество оперативной памяти в мегабайтах, которое тратится на хранение данных.\n",
    "\n",
    "Из вывода метода info() становится понятно, что в нашей таблице есть столбец CouncilArea с пропущенными значениями — количество непустых значений в столбце меньше, чем количество строк в таблице (12211 < 13580).\n",
    "\n",
    "Пустыми, или пропущенными, значениями называются значения в ячейках таблицы, которые не заполнены по какой-либо причине, то есть на их месте стоит пустое место. В Pandas такие значения обозначаются символом NaN (Not-a-Number).\n",
    "\n",
    "→ Мы будем говорить о работе с пропусками в отдельном модуле, посвящённом очистке данных, а пока что не будем обращать на них внимания.\n",
    "\n",
    "Если вам всё же любопытно, как можно работать с такими значениями в Pandas, то вы можете посмотреть информацию здесь.\n"
   ]
  },
  {
   "cell_type": "code",
   "execution_count": 5,
   "metadata": {},
   "outputs": [
    {
     "name": "stdout",
     "output_type": "stream",
     "text": [
      "<bound method DataFrame.info of        index         Suburb           Address  Rooms Type      Price Method  \\\n",
      "0          0     Abbotsford      85 Turner St      2    h  1480000.0      S   \n",
      "1          1     Abbotsford   25 Bloomburg St      2    h  1035000.0      S   \n",
      "2          2     Abbotsford      5 Charles St      3    h  1465000.0     SP   \n",
      "3          3     Abbotsford  40 Federation La      3    h   850000.0     PI   \n",
      "4          4     Abbotsford       55a Park St      4    h  1600000.0     VB   \n",
      "...      ...            ...               ...    ...  ...        ...    ...   \n",
      "13575  13575  Wheelers Hill      12 Strada Cr      4    h  1245000.0      S   \n",
      "13576  13576   Williamstown     77 Merrett Dr      3    h  1031000.0     SP   \n",
      "13577  13577   Williamstown       83 Power St      3    h  1170000.0      S   \n",
      "13578  13578   Williamstown      96 Verdon St      4    h  2500000.0     PI   \n",
      "13579  13579     Yarraville        6 Agnes St      4    h  1285000.0     SP   \n",
      "\n",
      "        SellerG        Date  Distance  ...  Car  Landsize  BuildingArea  \\\n",
      "0        Biggin   3/12/2016       2.5  ...  1.0     202.0         126.0   \n",
      "1        Biggin   4/02/2016       2.5  ...  0.0     156.0          79.0   \n",
      "2        Biggin   4/03/2017       2.5  ...  0.0     134.0         150.0   \n",
      "3        Biggin   4/03/2017       2.5  ...  1.0      94.0         126.0   \n",
      "4        Nelson   4/06/2016       2.5  ...  2.0     120.0         142.0   \n",
      "...         ...         ...       ...  ...  ...       ...           ...   \n",
      "13575     Barry  26/08/2017      16.7  ...  2.0     652.0         126.0   \n",
      "13576  Williams  26/08/2017       6.8  ...  2.0     333.0         133.0   \n",
      "13577     Raine  26/08/2017       6.8  ...  4.0     436.0         126.0   \n",
      "13578   Sweeney  26/08/2017       6.8  ...  5.0     866.0         157.0   \n",
      "13579   Village  26/08/2017       6.3  ...  1.0     362.0         112.0   \n",
      "\n",
      "       YearBuilt  CouncilArea  Lattitude  Longtitude  \\\n",
      "0         1970.0        Yarra  -37.79960   144.99840   \n",
      "1         1900.0        Yarra  -37.80790   144.99340   \n",
      "2         1900.0        Yarra  -37.80930   144.99440   \n",
      "3         1970.0        Yarra  -37.79690   144.99690   \n",
      "4         2014.0        Yarra  -37.80720   144.99410   \n",
      "...          ...          ...        ...         ...   \n",
      "13575     1981.0          NaN  -37.90562   145.16761   \n",
      "13576     1995.0          NaN  -37.85927   144.87904   \n",
      "13577     1997.0          NaN  -37.85274   144.88738   \n",
      "13578     1920.0          NaN  -37.85908   144.89299   \n",
      "13579     1920.0          NaN  -37.81188   144.88449   \n",
      "\n",
      "                       Regionname  Propertycount           Coordinates  \n",
      "0           Northern Metropolitan         4019.0    -37.7996, 144.9984  \n",
      "1           Northern Metropolitan         4019.0    -37.8079, 144.9934  \n",
      "2           Northern Metropolitan         4019.0    -37.8093, 144.9944  \n",
      "3           Northern Metropolitan         4019.0    -37.7969, 144.9969  \n",
      "4           Northern Metropolitan         4019.0    -37.8072, 144.9941  \n",
      "...                           ...            ...                   ...  \n",
      "13575  South-Eastern Metropolitan         7392.0  -37.90562, 145.16761  \n",
      "13576        Western Metropolitan         6380.0  -37.85927, 144.87904  \n",
      "13577        Western Metropolitan         6380.0  -37.85274, 144.88738  \n",
      "13578        Western Metropolitan         6380.0  -37.85908, 144.89299  \n",
      "13579        Western Metropolitan         6543.0  -37.81188, 144.88449  \n",
      "\n",
      "[13580 rows x 23 columns]>\n"
     ]
    }
   ],
   "source": [
    "print(melb_data.info)"
   ]
  },
  {
   "cell_type": "code",
   "execution_count": 8,
   "metadata": {},
   "outputs": [
    {
     "name": "stdout",
     "output_type": "stream",
     "text": [
      "<bound method DataFrame.info of        index         Suburb           Address  Rooms Type      Price Method  \\\n",
      "0          0     Abbotsford      85 Turner St      2    h  1480000.0      S   \n",
      "1          1     Abbotsford   25 Bloomburg St      2    h  1035000.0      S   \n",
      "2          2     Abbotsford      5 Charles St      3    h  1465000.0     SP   \n",
      "3          3     Abbotsford  40 Federation La      3    h   850000.0     PI   \n",
      "4          4     Abbotsford       55a Park St      4    h  1600000.0     VB   \n",
      "...      ...            ...               ...    ...  ...        ...    ...   \n",
      "13575  13575  Wheelers Hill      12 Strada Cr      4    h  1245000.0      S   \n",
      "13576  13576   Williamstown     77 Merrett Dr      3    h  1031000.0     SP   \n",
      "13577  13577   Williamstown       83 Power St      3    h  1170000.0      S   \n",
      "13578  13578   Williamstown      96 Verdon St      4    h  2500000.0     PI   \n",
      "13579  13579     Yarraville        6 Agnes St      4    h  1285000.0     SP   \n",
      "\n",
      "        SellerG        Date  Distance  ...  Car  Landsize  BuildingArea  \\\n",
      "0        Biggin   3/12/2016       2.5  ...    1     202.0         126.0   \n",
      "1        Biggin   4/02/2016       2.5  ...    0     156.0          79.0   \n",
      "2        Biggin   4/03/2017       2.5  ...    0     134.0         150.0   \n",
      "3        Biggin   4/03/2017       2.5  ...    1      94.0         126.0   \n",
      "4        Nelson   4/06/2016       2.5  ...    2     120.0         142.0   \n",
      "...         ...         ...       ...  ...  ...       ...           ...   \n",
      "13575     Barry  26/08/2017      16.7  ...    2     652.0         126.0   \n",
      "13576  Williams  26/08/2017       6.8  ...    2     333.0         133.0   \n",
      "13577     Raine  26/08/2017       6.8  ...    4     436.0         126.0   \n",
      "13578   Sweeney  26/08/2017       6.8  ...    5     866.0         157.0   \n",
      "13579   Village  26/08/2017       6.3  ...    1     362.0         112.0   \n",
      "\n",
      "       YearBuilt  CouncilArea  Lattitude  Longtitude  \\\n",
      "0           1970        Yarra  -37.79960   144.99840   \n",
      "1           1900        Yarra  -37.80790   144.99340   \n",
      "2           1900        Yarra  -37.80930   144.99440   \n",
      "3           1970        Yarra  -37.79690   144.99690   \n",
      "4           2014        Yarra  -37.80720   144.99410   \n",
      "...          ...          ...        ...         ...   \n",
      "13575       1981          NaN  -37.90562   145.16761   \n",
      "13576       1995          NaN  -37.85927   144.87904   \n",
      "13577       1997          NaN  -37.85274   144.88738   \n",
      "13578       1920          NaN  -37.85908   144.89299   \n",
      "13579       1920          NaN  -37.81188   144.88449   \n",
      "\n",
      "                       Regionname  Propertycount           Coordinates  \n",
      "0           Northern Metropolitan           4019    -37.7996, 144.9984  \n",
      "1           Northern Metropolitan           4019    -37.8079, 144.9934  \n",
      "2           Northern Metropolitan           4019    -37.8093, 144.9944  \n",
      "3           Northern Metropolitan           4019    -37.7969, 144.9969  \n",
      "4           Northern Metropolitan           4019    -37.8072, 144.9941  \n",
      "...                           ...            ...                   ...  \n",
      "13575  South-Eastern Metropolitan           7392  -37.90562, 145.16761  \n",
      "13576        Western Metropolitan           6380  -37.85927, 144.87904  \n",
      "13577        Western Metropolitan           6380  -37.85274, 144.88738  \n",
      "13578        Western Metropolitan           6380  -37.85908, 144.89299  \n",
      "13579        Western Metropolitan           6543  -37.81188, 144.88449  \n",
      "\n",
      "[13580 rows x 23 columns]>\n"
     ]
    }
   ],
   "source": [
    "melb_data['Car'] = melb_data['Car'].astype('int64')\n",
    "melb_data['Bedroom'] = melb_data['Bedroom'].astype('int64')\n",
    "melb_data['Bathroom'] = melb_data['Bathroom'].astype('int64')\n",
    "melb_data['Propertycount'] = melb_data['Propertycount'].astype('int64')\n",
    "melb_data['YearBuilt'] = melb_data['YearBuilt'].astype('int64')\n",
    "print(melb_data.info)"
   ]
  },
  {
   "cell_type": "markdown",
   "metadata": {},
   "source": [
    "Получение описательной статистики\n",
    "\n",
    "→ Часто при работе с таблицей нужно быстро посмотреть на основные статистические свойства её столбцов. Для этого можно воспользоваться методом DataFrame describe().\n",
    "\n",
    "По умолчанию метод работает с числовыми (int64 и float64) столбцами и показывает число непустых значений (count), среднее (mean), стандартное отклонение (std), минимальное значение (min),  квартили уровней 0.25, 0.5 (медиана) и 0.75 (25%, 50%, 75%) и максимальное значение (max) для каждого столбца исходной таблицы."
   ]
  },
  {
   "cell_type": "markdown",
   "metadata": {},
   "source": [
    "Чтобы не увязнуть в обилии информации, выведем на экран значение статистических параметров только для столбцов Distance (расстояние от объекта недвижимости до центра Мельбурна), BuildingArea (площадь здания) и Price (цена объекта):"
   ]
  },
  {
   "cell_type": "code",
   "execution_count": 9,
   "metadata": {},
   "outputs": [
    {
     "name": "stdout",
     "output_type": "stream",
     "text": [
      "       Distance  BuildingArea      Price\n",
      "0           2.5         126.0  1480000.0\n",
      "1           2.5          79.0  1035000.0\n",
      "2           2.5         150.0  1465000.0\n",
      "3           2.5         126.0   850000.0\n",
      "4           2.5         142.0  1600000.0\n",
      "...         ...           ...        ...\n",
      "13575      16.7         126.0  1245000.0\n",
      "13576       6.8         133.0  1031000.0\n",
      "13577       6.8         126.0  1170000.0\n",
      "13578       6.8         157.0  2500000.0\n",
      "13579       6.3         112.0  1285000.0\n",
      "\n",
      "[13580 rows x 3 columns]\n"
     ]
    }
   ],
   "source": [
    "print(melb_data.loc[:, ['Distance', 'BuildingArea', 'Price']])"
   ]
  },
  {
   "cell_type": "code",
   "execution_count": 11,
   "metadata": {},
   "outputs": [
    {
     "name": "stdout",
     "output_type": "stream",
     "text": [
      "           Suburb           Address   Type Method SellerG        Date  \\\n",
      "count       13580             13580  13580  13580   13580       13580   \n",
      "unique        314             13378      3      5     268          58   \n",
      "top     Reservoir  36 Aberfeldie St      h      S  Nelson  27/05/2017   \n",
      "freq          359                 3   9449   9022    1565         473   \n",
      "\n",
      "       CouncilArea             Regionname         Coordinates  \n",
      "count        12211                  13580               13580  \n",
      "unique          33                      8               13097  \n",
      "top       Moreland  Southern Metropolitan  -37.8361, 144.9966  \n",
      "freq          1163                   4695                  12  \n"
     ]
    }
   ],
   "source": [
    "print(melb_data.describe(include = ['object']))"
   ]
  },
  {
   "cell_type": "markdown",
   "metadata": {},
   "source": [
    "Получение частоты уникальных значений в столбце\n",
    "\n",
    "→ Для того чтобы определить, сколько раз в столбце повторяется каждый из вариантов значений (т.е. найти частоту для каждого уникального знания), используется метод value_counts().\n",
    "Данный метод возвращает объект Series, в котором в качестве индексов выступают уникальные категории столбца, а значениями — соответствующая им частота.\n",
    "\n",
    "Рассмотрим работу value_counts() на примере столбца с названиями районов:"
   ]
  },
  {
   "cell_type": "code",
   "execution_count": 15,
   "metadata": {},
   "outputs": [
    {
     "name": "stdout",
     "output_type": "stream",
     "text": [
      "<bound method IndexOpsMixin.value_counts of 0             Northern Metropolitan\n",
      "1             Northern Metropolitan\n",
      "2             Northern Metropolitan\n",
      "3             Northern Metropolitan\n",
      "4             Northern Metropolitan\n",
      "                    ...            \n",
      "13575    South-Eastern Metropolitan\n",
      "13576          Western Metropolitan\n",
      "13577          Western Metropolitan\n",
      "13578          Western Metropolitan\n",
      "13579          Western Metropolitan\n",
      "Name: Regionname, Length: 13580, dtype: object>\n"
     ]
    }
   ],
   "source": [
    "print(melb_data['Regionname'].value_counts)"
   ]
  },
  {
   "cell_type": "markdown",
   "metadata": {},
   "source": [
    "\n",
    "Чтобы сделать вывод более интерпретируемым и понятным, можно воспользоваться параметром normalize. При установке значения этого параметра на True результат будет представляться в виде доли (относительной частоты):"
   ]
  },
  {
   "cell_type": "code",
   "execution_count": 16,
   "metadata": {},
   "outputs": [
    {
     "name": "stdout",
     "output_type": "stream",
     "text": [
      "Southern Metropolitan         0.345729\n",
      "Northern Metropolitan         0.286451\n",
      "Western Metropolitan          0.217084\n",
      "Eastern Metropolitan          0.108321\n",
      "South-Eastern Metropolitan    0.033137\n",
      "Eastern Victoria              0.003903\n",
      "Northern Victoria             0.003019\n",
      "Western Victoria              0.002356\n",
      "Name: Regionname, dtype: float64\n"
     ]
    }
   ],
   "source": [
    "print(melb_data['Regionname'].value_counts(normalize= True))"
   ]
  },
  {
   "cell_type": "markdown",
   "metadata": {},
   "source": [
    "МОДУЛЬ 7\n",
    "\n",
    "\n",
    "Агрегирующим в Pandas называется метод, который для каждого столбца возвращает только одно значение — показатель (например, вычисление медианы, максимума, среднего и так далее).\n",
    "\n",
    "Ниже приведена таблица основных агрегирующих методов:\n",
    "Метод \tСтатистический параметр\n",
    ".count() \tКоличество непустых значений\n",
    ".mean() \tСреднее значение\n",
    ".min() \tМинимальное значение\n",
    ".max() \tМаксимальное значение\n",
    ".deviance() \tДисперсия\n",
    ".std() \tСтандартное отклонение\n",
    ".sum() \tСумма\n",
    ".quantile(x) \tКвантиль уровня x\n",
    ".nunique() \tЧисло уникальных значений\n",
    "\n",
    "Если один из этих методов применить ко всему DataFrame, то в результате его работы будет получен объект типа Series, в котором в качестве индексов будут выступать наименования столбцов, а в качестве значений — статистический показатель. В случае применения метода к отдельному столбцу результатом вычислений станет число.\n",
    "\n",
    "В каждый метод можно передать некоторые параметры, среди которых:\n",
    "\n",
    "        axis  — определяет, подсчитывать параметр по строкам или по столбцам;\n",
    "        numeric_only — определяет, вычислять параметры только по числовым столбцам/строкам или нет (True/False).\n",
    "\n",
    "\n",
    "азберём агрегирующие функции на примерах.\n",
    "\n",
    "Вычислим среднюю цену на объекты недвижимости:"
   ]
  },
  {
   "cell_type": "code",
   "execution_count": 17,
   "metadata": {},
   "outputs": [
    {
     "name": "stdout",
     "output_type": "stream",
     "text": [
      "1075684.079455081\n",
      "10.0\n",
      "Total income of real estate agencies: 1752934775.88\n",
      "0.21205713983546193\n"
     ]
    }
   ],
   "source": [
    "print(melb_data['Price'].mean())\n",
    "#Найдём максимальное количество парковочных мест:\n",
    "print(melb_data['Car'].max())\n",
    "#А теперь представим, что риэлторская ставка для всех компаний за продажу недвижимости составляет 12%. Найдём общую прибыльность риэлторского бизнеса в Мельбурне. Результат округлим до сотых:\n",
    "rate = 0.12\n",
    "income = melb_data['Price'].sum() * rate\n",
    "print('Total income of real estate agencies:', round(income, 2))\n",
    "landsize_median = melb_data['Landsize'].median() \n",
    "landsize_mean =  melb_data['Landsize'].mean()\n",
    "print(abs(landsize_median - landsize_mean)/landsize_mean)"
   ]
  },
  {
   "cell_type": "code",
   "execution_count": 18,
   "metadata": {},
   "outputs": [
    {
     "name": "stdout",
     "output_type": "stream",
     "text": [
      "0    3\n",
      "dtype: int64\n"
     ]
    }
   ],
   "source": [
    "print(melb_data['Rooms'].mode())"
   ]
  },
  {
   "cell_type": "markdown",
   "metadata": {},
   "source": [
    "Модуль 8"
   ]
  },
  {
   "cell_type": "markdown",
   "metadata": {},
   "source": [
    "Часто возникает необходимость исследовать определённую группу объектов по какому-то условию, например найти здания с ценой меньше 1 миллиона или выделить из всей таблицы помещения с двумя комнатами.\n",
    "\n",
    "Такие задачи называются задачами фильтрации.\n",
    "\n",
    "Под фильтрацией в DataFrame подразумевается получение новой таблицы путём вырезания строк, не удовлетворяющих поставленному условию. \n",
    "\n",
    "Разберём классический способ фильтрации в DataFrame — фильтрацию с помощью масок.\n",
    "\n",
    "Маской называется Series, которая состоит из булевых значений, при этом значения True соответствуют тем индексам, для которых заданное условие выполняется, в противном случае ставится значение False (например, цена > 2 млн).\n",
    "\n",
    "Создадим маску и положим её в переменную с именем mask. Синтаксис очень прост:"
   ]
  },
  {
   "cell_type": "code",
   "execution_count": 20,
   "metadata": {},
   "outputs": [
    {
     "name": "stdout",
     "output_type": "stream",
     "text": [
      "<bound method NDFrame.head of        index          Suburb               Address  Rooms Type      Price  \\\n",
      "80        80     Albert Park  112 Beaconsfield Pde      3    h  2850000.0   \n",
      "85        85     Albert Park     104 Richardson St      4    h  2300000.0   \n",
      "88        88     Albert Park        29 Faussett St      2    h  2120000.0   \n",
      "92        92     Albert Park           2 Dundas Pl      3    h  2615000.0   \n",
      "93        93     Albert Park          23 Finlay St      5    h  2100000.0   \n",
      "...      ...             ...                   ...    ...  ...        ...   \n",
      "13521  13521  Port Melbourne          44 Garton St      4    t  2455000.0   \n",
      "13523  13523         Prahran        69 Greville St      4    h  2668000.0   \n",
      "13553  13553    Surrey Hills          20 Albert Cr      4    h  2720000.0   \n",
      "13555  13555    Surrey Hills              3 Oak St      4    h  3100000.0   \n",
      "13578  13578    Williamstown          96 Verdon St      4    h  2500000.0   \n",
      "\n",
      "      Method   SellerG        Date  Distance  ...  Car  Landsize  \\\n",
      "80        PI    Buxton   4/03/2017       3.3  ...  0.0     211.0   \n",
      "85         S  Marshall   7/05/2016       3.3  ...  1.0     153.0   \n",
      "88         S      Greg  10/09/2016       3.3  ...  1.0     199.0   \n",
      "92         S    Cayzer  10/12/2016       3.3  ...  1.0     177.0   \n",
      "93         S      Greg  10/12/2016       3.3  ...  1.0     237.0   \n",
      "...      ...       ...         ...       ...  ...  ...       ...   \n",
      "13521     SP  Marshall  26/08/2017       3.5  ...  2.0     123.0   \n",
      "13523      S    Biggin  26/08/2017       4.6  ...  2.0     383.0   \n",
      "13553      S       Kay  26/08/2017      10.2  ...  2.0    1005.0   \n",
      "13555     VB  Marshall  26/08/2017      10.2  ...  3.0     832.0   \n",
      "13578     PI   Sweeney  26/08/2017       6.8  ...  5.0     866.0   \n",
      "\n",
      "       BuildingArea  YearBuilt   CouncilArea  Lattitude  Longtitude  \\\n",
      "80            198.0     1890.0  Port Phillip  -37.84810   144.94990   \n",
      "85            180.0     1880.0  Port Phillip  -37.84470   144.95230   \n",
      "88            107.0     1900.0  Port Phillip  -37.84220   144.95540   \n",
      "92            181.0     1880.0  Port Phillip  -37.84150   144.95850   \n",
      "93            126.0     1970.0  Port Phillip  -37.84360   144.95570   \n",
      "...             ...        ...           ...        ...         ...   \n",
      "13521           0.0     2010.0           NaN  -37.83349   144.94840   \n",
      "13523         126.0     1970.0           NaN  -37.84879   144.98882   \n",
      "13553         126.0     1920.0           NaN  -37.82421   145.10352   \n",
      "13555         126.0     1970.0           NaN  -37.83564   145.10919   \n",
      "13578         157.0     1920.0           NaN  -37.85908   144.89299   \n",
      "\n",
      "                  Regionname  Propertycount           Coordinates  \n",
      "80     Southern Metropolitan         3280.0    -37.8481, 144.9499  \n",
      "85     Southern Metropolitan         3280.0    -37.8447, 144.9523  \n",
      "88     Southern Metropolitan         3280.0    -37.8422, 144.9554  \n",
      "92     Southern Metropolitan         3280.0    -37.8415, 144.9585  \n",
      "93     Southern Metropolitan         3280.0    -37.8436, 144.9557  \n",
      "...                      ...            ...                   ...  \n",
      "13521  Southern Metropolitan         8648.0   -37.83349, 144.9484  \n",
      "13523  Southern Metropolitan         7717.0  -37.84879, 144.98882  \n",
      "13553  Southern Metropolitan         5457.0  -37.82421, 145.10352  \n",
      "13555  Southern Metropolitan         5457.0  -37.83564, 145.10919  \n",
      "13578   Western Metropolitan         6380.0  -37.85908, 144.89299  \n",
      "\n",
      "[1007 rows x 23 columns]>\n"
     ]
    }
   ],
   "source": [
    "mask = melb_data['Price'] > 2000000\n",
    "print(melb_data[mask].head)"
   ]
  },
  {
   "cell_type": "code",
   "execution_count": 7,
   "metadata": {},
   "outputs": [
    {
     "name": "stdout",
     "output_type": "stream",
     "text": [
      "5881\n",
      "3\n",
      "68\n",
      "5\n"
     ]
    },
    {
     "data": {
      "text/plain": [
       "126.0"
      ]
     },
     "execution_count": 7,
     "metadata": {},
     "output_type": "execute_result"
    }
   ],
   "source": [
    "print(melb_data[melb_data['Rooms'] == 3].shape[0])\n",
    "#Усложним прошлый пример и найдём число трёхкомнатных домов с ценой менее 300 тысяч:\n",
    "m = melb_data[(melb_data['Rooms'] == 3) & (melb_data['Price'] < 300000)].shape[0]\n",
    "print(m)\n",
    "m1 = melb_data[((melb_data['Rooms'] == 3) | (melb_data['BuildingArea'] > 100)) & (melb_data['Price'] < 300000)].shape[0]\n",
    "print(m1)\n",
    "\n",
    "print(melb_data[melb_data['Type'] == 't']['Rooms'].max())\n",
    "\n",
    "mean_price = melb_data['Price'].mean()\n",
    "melb_data[melb_data['Price'] > mean_price]['BuildingArea'].median()\n"
   ]
  }
 ],
 "metadata": {
  "interpreter": {
   "hash": "cacc99f2d5398e8980ff7a93e10dc6151eb205bb4b5374c2e832cc15a91bcb38"
  },
  "kernelspec": {
   "display_name": "Python 3.9.7 ('base')",
   "language": "python",
   "name": "python3"
  },
  "language_info": {
   "codemirror_mode": {
    "name": "ipython",
    "version": 3
   },
   "file_extension": ".py",
   "mimetype": "text/x-python",
   "name": "python",
   "nbconvert_exporter": "python",
   "pygments_lexer": "ipython3",
   "version": "3.9.7"
  },
  "orig_nbformat": 4
 },
 "nbformat": 4,
 "nbformat_minor": 2
}
